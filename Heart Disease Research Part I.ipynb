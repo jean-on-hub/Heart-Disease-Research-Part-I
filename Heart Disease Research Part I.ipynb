{
 "cells": [
  {
   "cell_type": "markdown",
   "id": "77fc31ea",
   "metadata": {},
   "source": [
    "### importing dependencies"
   ]
  },
  {
   "cell_type": "code",
   "execution_count": 2,
   "id": "5fda2f1c",
   "metadata": {},
   "outputs": [],
   "source": [
    "import pandas as pd\n",
    "import numpy as np\n",
    "from scipy.stats import ttest_1samp\n",
    "from scipy.stats import binom_test"
   ]
  },
  {
   "cell_type": "markdown",
   "id": "ec1c2bac",
   "metadata": {},
   "source": [
    "### inspect and arrange data"
   ]
  },
  {
   "cell_type": "code",
   "execution_count": 4,
   "id": "9c4ff3af",
   "metadata": {},
   "outputs": [],
   "source": [
    "heart = pd.read_csv('heart_disease.csv')\n",
    "# seperating cholesterol data for further analysis\n",
    "yes_hd = heart[heart.heart_disease == 'presence']\n",
    "no_hd = heart[heart.heart_disease == 'absence']"
   ]
  },
  {
   "cell_type": "code",
   "execution_count": 5,
   "id": "36c9016d",
   "metadata": {},
   "outputs": [
    {
     "name": "stdout",
     "output_type": "stream",
     "text": [
      "251.4748201438849\n",
      "0.0035411033905155707\n"
     ]
    }
   ],
   "source": [
    "# with heart disease cholesterol\n",
    "ychol_hd = yes_hd.chol \n",
    "# print(chol_hd)\n",
    "ychol_mean = ychol_hd.mean()\n",
    "print(ychol_mean)\n",
    "# using a t test to get the p_value\n",
    "ans1, yp_value = ttest_1samp(ychol_hd,240)\n",
    "# since the t test does not account for one sided tests we divide the pvalue by 2 \n",
    "print(yp_value/2)\n",
    "# from these results we can conclude that  heart disease patients have an average cholesterol level significantly greater than 240 mg/dl"
   ]
  },
  {
   "cell_type": "code",
   "execution_count": 6,
   "id": "2be1799f",
   "metadata": {},
   "outputs": [
    {
     "name": "stdout",
     "output_type": "stream",
     "text": [
      "242.640243902439\n",
      "0.26397120232220506\n"
     ]
    }
   ],
   "source": [
    "# without heart disease chol\n",
    "nchol_hd = no_hd.chol \n",
    "nchol_mean = nchol_hd.mean()\n",
    "print(nchol_mean)\n",
    "ans2, np_value = ttest_1samp(nchol_hd,240)\n",
    "print(np_value/2)\n",
    "# from these results we can conclude that  heart disease patients do not have an average cholesterol level significantly greater than 240 mg/dl or ave a normal level of cholesterol"
   ]
  },
  {
   "cell_type": "code",
   "execution_count": 8,
   "id": "bfcd8861",
   "metadata": {},
   "outputs": [
    {
     "name": "stdout",
     "output_type": "stream",
     "text": [
      "303\n",
      "45\n",
      "24.240000000000002\n"
     ]
    }
   ],
   "source": [
    "# fasting blood sugar level exercise\n",
    "num_patients = len(heart)\n",
    "print(num_patients)\n",
    "# num of patients with fbs>120\n",
    "num_highfbs_patients = np.sum(heart.fbs ==1)\n",
    "print(num_highfbs_patients)\n",
    "# supposed number of diabetese patients in us\n",
    "num_d_U = 0.08*303\n",
    "print(num_d_U)\n",
    "# the number of suuposed diabestes patients is  greatly less than the number of patients with above 120 fbs"
   ]
  },
  {
   "cell_type": "code",
   "execution_count": 9,
   "id": "0eadf468",
   "metadata": {},
   "outputs": [
    {
     "name": "stdout",
     "output_type": "stream",
     "text": [
      "4.689471951449078e-05\n"
     ]
    }
   ],
   "source": [
    "# using a binomial test to check the number of diabetes patients\n",
    "p_value = binom_test(45,n =303 ,p=0.08 ,alternative = \"greater\")\n",
    "print(p_value)"
   ]
  },
  {
   "cell_type": "code",
   "execution_count": null,
   "id": "eb100103",
   "metadata": {},
   "outputs": [],
   "source": []
  }
 ],
 "metadata": {
  "kernelspec": {
   "display_name": "Python 3",
   "language": "python",
   "name": "python3"
  },
  "language_info": {
   "codemirror_mode": {
    "name": "ipython",
    "version": 3
   },
   "file_extension": ".py",
   "mimetype": "text/x-python",
   "name": "python",
   "nbconvert_exporter": "python",
   "pygments_lexer": "ipython3",
   "version": "3.8.8"
  }
 },
 "nbformat": 4,
 "nbformat_minor": 5
}
